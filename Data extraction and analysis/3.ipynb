{
 "cells": [
  {
   "cell_type": "code",
   "execution_count": 66,
   "metadata": {},
   "outputs": [
    {
     "name": "stdout",
     "output_type": "stream",
     "text": [
      "[<title>Всемирная библиотека (Норвежский книжный клуб) — Википедия</title>] 1430 слов\n",
      "[<title>Всемирная библиотека (Норвежский книжный клуб) — Википедия</title>] 1503 слов\n",
      "[<title>Всемирная библиотека (Норвежский книжный клуб): различия между версиями — Википедия</title>] 2495 слов\n",
      "[<title>Всемирная библиотека (Норвежский книжный клуб) — Википедия</title>] 1503 слов\n",
      "[<title>Всемирная библиотека (Норвежский книжный клуб): различия между версиями — Википедия</title>] 2495 слов\n",
      "[<title>De norske Bokklubbene – Wikipedia</title>] 738 слов\n",
      "[<title>Félix de Azúa - Wikipedia, la enciclopedia libre</title>] 1664 слов\n",
      "[<title>Ahmet Altan - Wikipedia</title>] 1492 слов\n",
      "[<title>Robert Bly - Wikipedia</title>] 2193 слов\n",
      "[<title>Suzanne Brøgger - Wikipedia</title>] 937 слов\n",
      "[<title>Izzat Ghazzawi – Wikipedia</title>] 731 слов\n",
      "[<title>Einar Már Guðmundsson – Wikipedia</title>] 803 слов\n",
      "[<title>Spôjmaï Zariâb — Wikipédia</title>] 682 слов\n",
      "[<title>Sonallah Ibrahim - Wikipedia</title>] 1076 слов\n",
      "[<title>Jim Crace - Wikipedia</title>] 1380 слов\n",
      "[<title>Leena Lander – Wikipedia</title>] 865 слов\n",
      "[<title>Viivi Luik – Wikipedia</title>] 846 слов\n",
      "[<title>Abdul Rahman Munif - Wikipedia</title>] 1179 слов\n",
      "[<title>Nawal El Saadawi - Wikipedia</title>] 2189 слов\n",
      "[<title>Graham Swift - Wikipedia</title>] 1272 слов\n",
      "[<title>Fouad al-Tikerly - Wikipedia</title>] 757 слов\n",
      "[<title>Adam Thorpe - Wikipedia</title>] 1117 слов\n",
      "[<title>Kirsten Thorup - Wikipedia</title>] 1000 слов\n",
      "[<title>Mehmed Uzun - Wikipedia</title>] 1210 слов\n",
      "[<title>Jayne Anne Phillips - Wikipedia</title>] 1170 слов\n",
      "[<title>Kjartan Fløgstad - Wikipedia</title>] 1535 слов\n",
      "[<title>Marilyn French - Wikipedia</title>] 1185 слов\n",
      "[<title>Christoph Hein – Wikipedia</title>] 1663 слов\n",
      "[<title>Jan Kjærstad - Wikipedia</title>] 1250 слов\n",
      "[<title>Hanan al-Shaykh - Wikipedia</title>] 877 слов\n",
      "[<title>Gerold Späth – Wikipedia</title>] 834 слов\n",
      "[<title>Kerstin Ekman - Wikipedia</title>] 1342 слов\n",
      "[<title>Nathan Englander - Wikipedia</title>] 944 слов\n",
      "[<title>Всемирная библиотека (Норвежский книжный клуб) — Википедия</title>] 1430 слов\n",
      "[<title>مكتبة بوكلوبن العالمية - ويكيبيديا</title>] 1202 слов\n",
      "[<title>Ar c'hant gwellañ levr a-viskoazh - Wikipedia</title>] 1100 слов\n",
      "[<title>Τα 100 καλύτερα βιβλία όλων των εποχών - Βικιπαίδεια</title>] 1656 слов\n",
      "[<title>Bokklubben World Library - Wikipedia</title>] 1416 слов\n",
      "[<title>Anexo:Los 100 mejores libros de todos los tiempos, según el Club de Libros de Noruega - Wikipedia, la enciclopedia libre</title>] 1395 слов\n",
      "[<title>Zerrenda:Garai guztietako 100 liburu onenak, Norvegiako Bokkluben arabera - Wikipedia, entziklopedia askea.</title>] 1504 слов\n",
      "[<title>صد کتاب برتر تاریخ ادبیات به انتخاب انجمن کتاب نروژ - ویکی‌پدیا، دانشنامهٔ آزاد</title>] 947 слов\n",
      "[<title>Maailman kaikkien aikojen 100 parasta kirjaa – Wikipedia</title>] 890 слов\n",
      "[<title>Les 100 meilleurs livres de tous les temps selon le Cercle norvégien du livre — Wikipédia</title>] 1158 слов\n",
      "[<title>100 najboljih knjiga svih vremena – Wikipedija</title>] 1079 слов\n",
      "[<title>Բոլոր ժամանակների և ժողովուրդների 100 լավագույն գրքերը - Վիքիպեդիա՝ ազատ հանրագիտարան</title>] 1027 слов\n",
      "[<title>I 100 libri migliori di sempre secondo Norwegian Book Club - Wikipedia</title>] 1310 слов\n",
      "[<title>Belangrijkste boeken uit de wereldliteratuur - Wikipedia</title>] 1022 слов\n",
      "[<title>Verdensbiblioteket – Wikipedia</title>] 895 слов\n",
      "[<title>100 najlepszych książek Norweskiego Klubu Książki – Wikipedia, wolna encyklopedia</title>] 1419 слов\n",
      "[<title>Bokklubben World Library – Wikipédia, a enciclopédia livre</title>] 1539 слов\n",
      "[<title>Svjetska biblioteka Bokklubbena - Wikipedia</title>] 1145 слов\n",
      "[<title>100 найкращих книг усіх часів (за версією норвезького книжкового клубу) — Вікіпедія</title>] 1463 слов\n",
      "[<title>Bokklubben World Library - Wikidata</title>] 522 слов\n",
      "[<title> Wikistats 2 - Statistics For Wikimedia Projects </title>] 55 слов\n"
     ]
    }
   ],
   "source": [
    "#Задача 1\n",
    "from bs4 import BeautifulSoup\n",
    "import requests\n",
    "r = requests.get('https://ru.wikipedia.org/wiki/Всемирная_библиотека_(Норвежский_книжный_клуб)')\n",
    "soup = bs(r.content, 'lxml')\n",
    "links = [item['href'] if item.get('href') is not None else item['src'] for item in soup.select('[href^=\"http\"], [src^=\"http\"]') ]\n",
    "\n",
    "for i in links:\n",
    "    if 'wikipedia' in i:\n",
    "        response = requests.get(i)\n",
    "        soup_link = BeautifulSoup(response.text, 'html.parser')\n",
    "        passage = soup_link.get_text()\n",
    "        passage = passage.replace('.',' ').replace(',',' ').replace('\"',' ').replace(\"'\",' ').replace('!', ' ')\n",
    "        length = len(set(passage.split()))\n",
    "        name = soup_link.findAll('title')\n",
    "        print(name, length, \"слов\")"
   ]
  },
  {
   "cell_type": "code",
   "execution_count": null,
   "metadata": {},
   "outputs": [
    {
     "name": "stdout",
     "output_type": "stream",
     "text": [
      "Введите ссылку на статью википедии: https://en.wikipedia.org/wiki/Bread\n",
      "3\n"
     ]
    }
   ],
   "source": [
    "#Задача 2\n",
    "from bs4 import BeautifulSoup\n",
    "from bs4 import BeautifulSoup as bs\n",
    "import requests\n",
    "\n",
    "link = input(\"Введите ссылку на статью википедии: \")\n",
    "number = int(input())\n",
    " \n",
    "for q in range(number):    \n",
    "    r = requests.get(link)\n",
    "    soup_link_new = BeautifulSoup(r.text, 'html.parser')\n",
    "    name_new = soup_link_new.findAll('title')\n",
    "    soup = bs(r.content, 'lxml')\n",
    "    links = [item['href'] if item.get('href') is not None else item['src'] for item in soup.select('[href^=\"http\"], [src^=\"http\"]')]\n",
    "    k = []\n",
    "\n",
    "    for z in links:\n",
    "        if 'wikipedia' in z:\n",
    "            response = requests.get(z)\n",
    "            soup_link = BeautifulSoup(response.text, 'html.parser')\n",
    "            name = soup_link.findAll('title')\n",
    "            k.append(z)\n",
    "                \n",
    "    first = k[0]        \n",
    "    k_page = requests.get(first)\n",
    "    need = BeautifulSoup(k_page.text, 'html.parser')\n",
    "    naming = need.findAll('title')\n",
    "    print(naming)\n",
    "    first = link\n",
    "    #Согласно данному в дз условию, код работает верно\n",
    "    #Однако очень часто первая ссылка в html-коде - это ссылка на ту же самую страницу, которую мы анализируем\n",
    "    #Поэтому, если в задании имелся в виду вывод ссылок, не равных анализируемой ссылке, то необходимо было это уточнить в условии"
   ]
  }
 ],
 "metadata": {
  "kernelspec": {
   "display_name": "Python 3",
   "language": "python",
   "name": "python3"
  },
  "language_info": {
   "codemirror_mode": {
    "name": "ipython",
    "version": 3
   },
   "file_extension": ".py",
   "mimetype": "text/x-python",
   "name": "python",
   "nbconvert_exporter": "python",
   "pygments_lexer": "ipython3",
   "version": "3.7.4"
  }
 },
 "nbformat": 4,
 "nbformat_minor": 2
}
