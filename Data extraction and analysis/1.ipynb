{
 "cells": [
  {
   "cell_type": "markdown",
   "metadata": {},
   "source": [
    "Разберем основные методы работы с текстом:"
   ]
  },
  {
   "cell_type": "code",
   "execution_count": 3,
   "metadata": {},
   "outputs": [
    {
     "name": "stdout",
     "output_type": "stream",
     "text": [
      "Частота слова выпьем равняется : 4\n",
      "Частота слова как равняется : 7\n",
      "Частота слова же равняется : 3\n",
      "Частота слова то равняется : 6\n"
     ]
    }
   ],
   "source": [
    "poem = \"\"\"Буря мглою небо кроет,\n",
    "Вихри снежные крутя;\n",
    "То, как зверь, она завоет,\n",
    "То заплачет, как дитя,\n",
    "\n",
    "То по кровле обветшалой\n",
    "Вдруг соломой зашумит,\n",
    "То, как путник запоздалый,\n",
    "К нам в окошко застучит.\n",
    "\n",
    "Наша ветхая лачужка\n",
    "И печальна и темна.\n",
    "Что же ты, моя старушка,\n",
    "Приумолкла у окна?\n",
    "\n",
    "Или бури завываньем\n",
    "Ты, мой друг, утомлена,\n",
    "Или дремлешь под жужжаньем\n",
    "Своего веретена?\n",
    "\n",
    "Выпьем, добрая подружка\n",
    "Бедной юности моей,\n",
    "Выпьем с горя; где же кружка?\n",
    "Сердцу будет веселей.\n",
    "\n",
    "Спой мне песню, как синица\n",
    "Тихо за морем жила;\n",
    "Спой мне песню, как девица\n",
    "За водой поутру шла.\n",
    "\n",
    "Буря мглою небо кроет,\n",
    "Вихри снежные крутя;\n",
    "То, как зверь, она завоет,\n",
    "То заплачет, как дитя.\n",
    "\n",
    "Выпьем, добрая подружка\n",
    "Бедной юности моей,\n",
    "Выпьем с горя: где же кружка?\n",
    "Сердцу будет веселей.\"\"\" \n",
    "#Определим функцию подсчета частоты слов\n",
    "def freq(poem):\n",
    "    #Заменим все символы и переведем заглавные буквы в строчные\n",
    "    poem_list = poem.replace('.',' ').replace(',',' ').replace('\"',' ').replace(\"'\",' ').replace('!', ' ').replace('?',' ').replace(';',' ').lower().split()\n",
    "    unique_words = set(poem_list) \n",
    "    for i in unique_words:\n",
    "        if poem_list.count(i) > 2:\n",
    "            print('Частота слова', i , 'равняется :', poem_list.count(i))\n",
    "        if __name__ == \"__main__\":   \n",
    "            poem = \"\"\"Буря мглою небо кроет,\n",
    "Вихри снежные крутя;\n",
    "То, как зверь, она завоет,\n",
    "То заплачет, как дитя,\n",
    "\n",
    "То по кровле обветшалой\n",
    "Вдруг соломой зашумит,\n",
    "То, как путник запоздалый,\n",
    "К нам в окошко застучит.\n",
    "\n",
    "Наша ветхая лачужка\n",
    "И печальна и темна.\n",
    "Что же ты, моя старушка,\n",
    "Приумолкла у окна?\n",
    "\n",
    "Или бури завываньем\n",
    "Ты, мой друг, утомлена,\n",
    "Или дремлешь под жужжаньем\n",
    "Своего веретена?\n",
    "\n",
    "Выпьем, добрая подружка\n",
    "Бедной юности моей,\n",
    "Выпьем с горя; где же кружка?\n",
    "Сердцу будет веселей.\n",
    "\n",
    "Спой мне песню, как синица\n",
    "Тихо за морем жила;\n",
    "Спой мне песню, как девица\n",
    "За водой поутру шла.\n",
    "\n",
    "Буря мглою небо кроет,\n",
    "Вихри снежные крутя;\n",
    "То, как зверь, она завоет,\n",
    "То заплачет, как дитя.\n",
    "\n",
    "Выпьем, добрая подружка\n",
    "Бедной юности моей,\n",
    "Выпьем с горя: где же кружка?\n",
    "Сердцу будет веселей.\"\"\" \n",
    "            \n",
    "freq(poem)"
   ]
  },
  {
   "cell_type": "markdown",
   "metadata": {},
   "source": [
    "Задача 1"
   ]
  },
  {
   "cell_type": "code",
   "execution_count": 8,
   "metadata": {},
   "outputs": [
    {
     "name": "stdout",
     "output_type": "stream",
     "text": [
      "5\n",
      "5\n",
      "8\n",
      "5.6\n",
      "Студент НЕ справился с курсом\n"
     ]
    }
   ],
   "source": [
    "interest = float(input())\n",
    "diligence = float(input())\n",
    "talent = float(input())\n",
    "result = interest*0.4 + diligence*0.4 + talent*0.2\n",
    "print(result)\n",
    "if result >= 6:\n",
    "    print(\"Студент справился с курсом\")\n",
    "elif interest > 10 or diligence > 10 or talent >10  or interest < 1 or diligence < 1 or talent < 1:\n",
    "    print(\"Все значения должны быть от 1 до 10\")\n",
    "else:\n",
    "        print (\"Студент НЕ справился с курсом\")"
   ]
  },
  {
   "cell_type": "markdown",
   "metadata": {},
   "source": [
    "Рассмотрим, как можно освободить текст от всех символов:"
   ]
  },
  {
   "cell_type": "code",
   "execution_count": 9,
   "metadata": {},
   "outputs": [
    {
     "name": "stdout",
     "output_type": "stream",
     "text": [
      "AsiaistheworldslargestcontinentAplacewithe734h112uniqueculturalheritageAsiaishometomorethan38billionpeoplemakingitthecrcrc567mostpopulouscontinentonEarthEventodaypeoplearound1237dg39AsiaholdfestivalscelebratingthedeedsofheroesandanimalsfromancientfolkloreThecollectionoffolktalesfromAsiaconsistsoffourteenbookswith353stories55Arabicfolktales104Chinesefolktales69Indianfolktales69Japanesefolktalesand61Filipinofolktales\n"
     ]
    }
   ],
   "source": [
    "text = \"\"\"Asia is the world's largest continent. A place with e734h112@! unique cultural heritage, Asia is home to more than 3.8 billion people, making it the crcrc567! most populous continent on Earth. Even today people around 1237dg39! Asia hold festivals celebrating the deeds of heroes and animals from ancient folklore.\n",
    "The collection of folktales from Asia consists of fourteen books !! with 353 stories: 55 Arabic folktales, 104 Chinese folktales, 69 Indian folktales, 69 Japanese folktales and 61 Filipino folktales.\"\"\"\n",
    "new_text = text.replace('.',' ').replace(',',' ').replace('\"',' ').replace(\"'\",' ').replace('!', ' ').replace(' ','').replace('@','').replace(':','').replace('\\n','')\n",
    "print(new_text)"
   ]
  },
  {
   "cell_type": "markdown",
   "metadata": {},
   "source": [
    "Поработаем с регулярными выражениями:"
   ]
  },
  {
   "cell_type": "code",
   "execution_count": 10,
   "metadata": {},
   "outputs": [
    {
     "name": "stdout",
     "output_type": "stream",
     "text": [
      "Введите пароль: Сри!228913т\n",
      "Пароль должен содержать буквы\n",
      "Введите пароль: Chkdn18$\n",
      "Это пароль\n"
     ]
    }
   ],
   "source": [
    "import re\n",
    "def check():\n",
    "    while True:\n",
    "        stroka = input(\"Введите пароль: \")\n",
    "        if len(stroka) < 6:\n",
    "            print(\"Пароль должен содержать 6 и более символов\")\n",
    "        elif re.search('[0-9]',stroka) is None:\n",
    "            print(\"Пароль должен содержать цифры\")\n",
    "        elif re.search('[a-z]',stroka) is None: \n",
    "            print(\"Пароль должен содержать буквы\")\n",
    "        elif re.search('[A-Z]',stroka) is None: \n",
    "            print(\"Пароль должен содержать заглавные буквы\")\n",
    "        elif re.search('[$#@!%&^]',stroka) is None: \n",
    "            print(\"Пароль должен содержать другие символы\")\n",
    "        else:\n",
    "            print(\"Это пароль\")\n",
    "            break\n",
    " \n",
    "check()"
   ]
  },
  {
   "cell_type": "code",
   "execution_count": 4,
   "metadata": {},
   "outputs": [
    {
     "ename": "FileNotFoundError",
     "evalue": "[Errno 2] No such file or directory: 'passwords.txt'",
     "output_type": "error",
     "traceback": [
      "\u001b[1;31m---------------------------------------------------------------------------\u001b[0m",
      "\u001b[1;31mFileNotFoundError\u001b[0m                         Traceback (most recent call last)",
      "\u001b[1;32m<ipython-input-4-d421710b2339>\u001b[0m in \u001b[0;36m<module>\u001b[1;34m\u001b[0m\n\u001b[1;32m----> 1\u001b[1;33m \u001b[0mfi\u001b[0m \u001b[1;33m=\u001b[0m \u001b[0mopen\u001b[0m\u001b[1;33m(\u001b[0m\u001b[1;34m'passwords.txt'\u001b[0m\u001b[1;33m)\u001b[0m\u001b[1;33m\u001b[0m\u001b[1;33m\u001b[0m\u001b[0m\n\u001b[0m\u001b[0;32m      2\u001b[0m \u001b[0mtext\u001b[0m \u001b[1;33m=\u001b[0m \u001b[0mfi\u001b[0m\u001b[1;33m.\u001b[0m\u001b[0mread\u001b[0m\u001b[1;33m(\u001b[0m\u001b[1;33m)\u001b[0m\u001b[1;33m\u001b[0m\u001b[1;33m\u001b[0m\u001b[0m\n\u001b[0;32m      3\u001b[0m \u001b[0mfi\u001b[0m\u001b[1;33m.\u001b[0m\u001b[0mclose\u001b[0m\u001b[1;33m(\u001b[0m\u001b[1;33m)\u001b[0m\u001b[1;33m\u001b[0m\u001b[1;33m\u001b[0m\u001b[0m\n\u001b[0;32m      4\u001b[0m \u001b[0mntext\u001b[0m \u001b[1;33m=\u001b[0m \u001b[0mset\u001b[0m\u001b[1;33m(\u001b[0m\u001b[0mtext\u001b[0m\u001b[1;33m.\u001b[0m\u001b[0msplit\u001b[0m\u001b[1;33m(\u001b[0m\u001b[1;34m'\\n'\u001b[0m\u001b[1;33m)\u001b[0m\u001b[1;33m)\u001b[0m\u001b[1;33m\u001b[0m\u001b[1;33m\u001b[0m\u001b[0m\n\u001b[0;32m      5\u001b[0m \u001b[1;32mimport\u001b[0m \u001b[0mre\u001b[0m\u001b[1;33m\u001b[0m\u001b[1;33m\u001b[0m\u001b[0m\n",
      "\u001b[1;31mFileNotFoundError\u001b[0m: [Errno 2] No such file or directory: 'passwords.txt'"
     ]
    }
   ],
   "source": [
    "fi = open('passwords.txt')\n",
    "text = fi.read()\n",
    "fi.close()\n",
    "ntext = set(text.split('\\n'))\n",
    "import re\n",
    "def check():\n",
    "    for x in ntext:\n",
    "        while True:\n",
    "            if len(ntext) < 6:\n",
    "                pass\n",
    "            elif re.search('[0-9]',x) is None:\n",
    "                pass\n",
    "            elif re.search('[a-z]',x) is None: \n",
    "                pass\n",
    "            elif re.search('[A-Z]',x) is None: \n",
    "                pass\n",
    "            elif re.search('[$#@!%&^]',x) is None: \n",
    "                pass\n",
    "            else:\n",
    "                print(x)\n",
    "            break\n",
    " \n",
    "check()"
   ]
  }
 ],
 "metadata": {
  "kernelspec": {
   "display_name": "Python 3",
   "language": "python",
   "name": "python3"
  },
  "language_info": {
   "codemirror_mode": {
    "name": "ipython",
    "version": 3
   },
   "file_extension": ".py",
   "mimetype": "text/x-python",
   "name": "python",
   "nbconvert_exporter": "python",
   "pygments_lexer": "ipython3",
   "version": "3.7.4"
  }
 },
 "nbformat": 4,
 "nbformat_minor": 2
}
