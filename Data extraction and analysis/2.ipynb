{
 "cells": [
  {
   "cell_type": "code",
   "execution_count": 1,
   "metadata": {},
   "outputs": [
    {
     "name": "stdout",
     "output_type": "stream",
     "text": [
      "<http.client.HTTPResponse object at 0x000001D3899EFA48>\n"
     ]
    }
   ],
   "source": [
    "#Задача 1\n",
    "import urllib.request\n",
    "import shutil\n",
    "\n",
    "url1 = 'https://hpmor.ru/files/hpmor_ru.html'\n",
    "page = urllib.request.urlopen(url1)\n",
    "print(page)\n",
    "f = open(\"./hp.txt\", \"wb\")\n",
    "shutil.copyfileobj(page, f)\n",
    "f.close()"
   ]
  },
  {
   "cell_type": "code",
   "execution_count": 2,
   "metadata": {},
   "outputs": [
    {
     "data": {
      "text/plain": [
       "[('И', 15473),\n",
       " ('НЕ', 13694),\n",
       " ('В', 11785),\n",
       " ('ЧТО', 11261),\n",
       " ('ГАРРИ', 8042),\n",
       " ('НА', 7588),\n",
       " ('Я', 6341),\n",
       " ('EM', 5704),\n",
       " ('С', 5307),\n",
       " ('ОН', 4933),\n",
       " ('ЭТО', 4674),\n",
       " ('НО', 4162),\n",
       " ('ТО', 4032),\n",
       " ('ЕГО', 3805),\n",
       " ('КАК', 3551),\n",
       " ('ЕСЛИ', 2946),\n",
       " ('БЫ', 2876),\n",
       " ('А', 2839),\n",
       " ('ТЫ', 2727),\n",
       " ('ОНА', 2570),\n",
       " ('ПО', 2548),\n",
       " ('ИЗ', 2529),\n",
       " ('ВЫ', 2338),\n",
       " ('К', 2335),\n",
       " ('ПРОФЕССОР', 2296),\n",
       " ('У', 2163),\n",
       " ('ЗА', 2149),\n",
       " ('БЫЛО', 2147),\n",
       " ('ЧТОБЫ', 2109),\n",
       " ('ТАК', 2072),\n",
       " ('ВСЁ', 2048),\n",
       " ('ЕЁ', 1963),\n",
       " ('ОТ', 1767),\n",
       " ('КОГДА', 1684),\n",
       " ('О', 1664),\n",
       " ('ДРАКО', 1642),\n",
       " ('ОНИ', 1641),\n",
       " ('СКАЗАЛ', 1630),\n",
       " ('ЖЕ', 1621),\n",
       " ('ЕЩЁ', 1541),\n",
       " ('МНЕ', 1471),\n",
       " ('ДАЖЕ', 1364),\n",
       " ('БЫЛ', 1333),\n",
       " ('ПОТТЕР', 1286),\n",
       " ('ДЛЯ', 1273),\n",
       " ('ТОЛЬКО', 1264),\n",
       " ('ПРОСТО', 1248),\n",
       " ('ГЕРМИОНА', 1185),\n",
       " ('КВИРРЕЛЛ', 1183),\n",
       " ('МЕНЯ', 1176),\n",
       " ('ИЛИ', 1173),\n",
       " ('УЖЕ', 1152),\n",
       " ('НЕТ', 1134),\n",
       " ('КТО', 1133),\n",
       " ('ИХ', 1121),\n",
       " ('МОЖЕТ', 1020),\n",
       " ('ЕМУ', 984),\n",
       " ('ВСЕ', 976),\n",
       " ('КОТОРЫЙ', 934),\n",
       " ('МЫ', 922),\n",
       " ('БУДЕТ', 910),\n",
       " ('ЧЕМ', 899),\n",
       " ('ЛИ', 896),\n",
       " ('МИСТЕР', 862),\n",
       " ('ЕСТЬ', 848),\n",
       " ('НИ', 845),\n",
       " ('ЛИШЬ', 844),\n",
       " ('НЕГО', 843),\n",
       " ('БЫТЬ', 841),\n",
       " ('ЭТОМ', 823),\n",
       " ('ДО', 823),\n",
       " ('ТОГО', 773),\n",
       " ('ГРЕЙНДЖЕР', 772),\n",
       " ('ГОЛОС', 755),\n",
       " ('ПРОФЕССОРА', 755),\n",
       " ('ТЕБЯ', 754),\n",
       " ('ЭТОГО', 749),\n",
       " ('ТЕПЕРЬ', 749),\n",
       " ('ВРЕМЯ', 747),\n",
       " ('НИБУДЬ', 746),\n",
       " ('БЫЛА', 743),\n",
       " ('ДАМБЛДОР', 739),\n",
       " ('СЕБЯ', 734),\n",
       " ('ОЧЕНЬ', 720),\n",
       " ('ТЕБЕ', 701),\n",
       " ('МАКГОНАГАЛЛ', 700),\n",
       " ('РАЗ', 696),\n",
       " ('МОГ', 695),\n",
       " ('НИЧЕГО', 690),\n",
       " ('ДА', 687),\n",
       " ('КОТОРЫЕ', 674),\n",
       " ('ПОТОМУ', 671),\n",
       " ('ВАС', 661),\n",
       " ('ПОЧЕМУ', 625),\n",
       " ('МОЖНО', 615),\n",
       " ('ЭТОТ', 615),\n",
       " ('СО', 610),\n",
       " ('ПОСЛЕ', 608),\n",
       " ('БЫЛИ', 605),\n",
       " ('ОТВЕТИЛ', 605)]"
      ]
     },
     "execution_count": 2,
     "metadata": {},
     "output_type": "execute_result"
    }
   ],
   "source": [
    "#Задача 2\n",
    "import re\n",
    "from collections import Counter\n",
    "\n",
    "with open('hp.txt', 'r', encoding = 'utf-16') as f:\n",
    "    passage = f.read()\n",
    "    passage = passage.replace('</p>','').replace('<p>','')\n",
    "\n",
    "words = re.findall(r'\\w+', passage)\n",
    "\n",
    "cap_words = [word.upper() for word in words]\n",
    "\n",
    "word_counts = Counter(cap_words).most_common(100)\n",
    "word_counts"
   ]
  },
  {
   "cell_type": "code",
   "execution_count": 3,
   "metadata": {},
   "outputs": [
    {
     "name": "stdout",
     "output_type": "stream",
     "text": [
      "Это не изображение\n",
      "Это не изображение\n"
     ]
    }
   ],
   "source": [
    "#Задача 3\n",
    "import re, requests\n",
    "\n",
    "url = 'https://lenta.ru/'\n",
    "response = requests.get(url)\n",
    "imgUrls = re.findall('img .*?src=\"(.*?)\"', response.text)\n",
    "for index, i in enumerate(imgUrls):\n",
    "    try:\n",
    "        new_response = requests.get(i)\n",
    "        with open(str(index) + \".jpg\", 'wb') as out_file:\n",
    "            out_file.write(new_response.content)\n",
    "    except:\n",
    "        print('Это не изображение')"
   ]
  }
 ],
 "metadata": {
  "kernelspec": {
   "display_name": "Python 3",
   "language": "python",
   "name": "python3"
  },
  "language_info": {
   "codemirror_mode": {
    "name": "ipython",
    "version": 3
   },
   "file_extension": ".py",
   "mimetype": "text/x-python",
   "name": "python",
   "nbconvert_exporter": "python",
   "pygments_lexer": "ipython3",
   "version": "3.7.4"
  }
 },
 "nbformat": 4,
 "nbformat_minor": 2
}
